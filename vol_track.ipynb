{
 "cells": [
  {
   "cell_type": "code",
   "execution_count": 339,
   "metadata": {},
   "outputs": [],
   "source": [
    "import datetime as dt\n",
    "import os"
   ]
  },
  {
   "cell_type": "code",
   "execution_count": 340,
   "metadata": {},
   "outputs": [],
   "source": [
    "import numpy as np\n",
    "import pandas as pd\n",
    "# pd.set_option('display.max_rows', None)"
   ]
  },
  {
   "cell_type": "code",
   "execution_count": 341,
   "metadata": {},
   "outputs": [],
   "source": [
    "from alpaca.data.requests import NewsRequest\n",
    "from alpaca.data import StockHistoricalDataClient, TimeFrame \n",
    "from alpaca.data.requests import StockQuotesRequest, StockBarsRequest\n",
    "\n",
    "from alpaca.trading.client import TradingClient\n",
    "\n",
    "KEY = \"PKQ9XJDJLTX686HE3ZL9\"\n",
    "SECRET = \"4ES985YvYlOWz0eAtzdhcETJ1asEPBSw3gq9ZXs7\"\n",
    "ENDP = \"https://paper-api.alpaca.markets\""
   ]
  },
  {
   "cell_type": "code",
   "execution_count": 342,
   "metadata": {},
   "outputs": [],
   "source": [
    "import tensorflow as tf\n",
    "import keras\n",
    "\n",
    "from tensorflow.keras import Sequential\n",
    "from tensorflow.keras.layers import LSTM, Dense, Embedding, GlobalAveragePooling1D, Conv2D, ConvLSTM2D, ConvLSTM1D, Input, Flatten, Reshape, TextVectorization, concatenate\n"
   ]
  },
  {
   "cell_type": "code",
   "execution_count": 343,
   "metadata": {},
   "outputs": [],
   "source": [
    "def build_model(time_steps, items):\n",
    "    input_volatility = Input(shape=(time_steps, items), name=\"input_vol\")\n",
    "    input_prem = Input(shape=(1,), name=\"input_prem\")\n",
    "    input_dte = Input(shape=(1,), name=\"input_dte\")\n",
    "\n",
    "    lstm1 = LSTM(units=16, return_sequences=True,input_shape=(time_steps, items))(input_volatility)\n",
    "    lstm2 = LSTM(units=8, return_sequences=False)(lstm1)\n",
    "    concatted = concatenate([lstm2, input_prem, input_dte])\n",
    "    dense = Dense(units=1, activation=\"sigmoid\")(concatted)\n",
    "    model = keras.Model(inputs = [input_volatility, input_prem, input_dte], outputs=dense)\n",
    "\n",
    "    model.compile(optimizer=\"adam\", loss=\"binary_crossentropy\")\n",
    "\n",
    "    return model\n",
    "\n",
    "    "
   ]
  },
  {
   "cell_type": "code",
   "execution_count": 344,
   "metadata": {},
   "outputs": [],
   "source": [
    "def collect_dfs(dir_path):\n",
    "    directory_path = dir_path\n",
    "    dfs = []\n",
    "    for filename in os.listdir(directory_path):\n",
    "        if filename.endswith('.txt'):\n",
    "            print(filename)\n",
    "            file_path = os.path.join(directory_path, filename)\n",
    "\n",
    "            # Read the text file into a DataFrame (adjust read_csv parameters based on your file format)\n",
    "            df = pd.read_csv(file_path, sep=\", \")\n",
    "            df = df[(df[\"[STRIKE_DISTANCE]\"] < 1) & (df[\"[DTE]\"] > 25) & (df[\"[DTE]\"] < 35)]\n",
    "            # Append the DataFrame to the list\n",
    "            dfs.append(df)\n",
    "    full_df = pd.concat(dfs, ignore_index=True)\n",
    "    print(full_df.shape)\n",
    "    return full_df"
   ]
  },
  {
   "cell_type": "code",
   "execution_count": 345,
   "metadata": {},
   "outputs": [],
   "source": [
    "def get_data(stocks, start_date, end_date):\n",
    "    data_client = StockHistoricalDataClient(KEY, SECRET)\n",
    "\n",
    "    request_params = StockBarsRequest(\n",
    "        symbol_or_symbols=stocks,\n",
    "        timeframe=TimeFrame.Day,\n",
    "        adjustment=\"split\",\n",
    "        start=start_date,\n",
    "        end=end_date\n",
    "        )\n",
    "\n",
    "\n",
    "\n",
    "    bars_df = data_client.get_stock_bars(request_params).df.tz_convert('America/New_York', level=1)\n",
    "    stock_data = pd.DataFrame(bars_df)\n",
    "    # print(stock_data)\n",
    "    stock_data = stock_data.groupby(['symbol', 'timestamp']).mean().unstack(level=0)\n",
    "    open_prices = stock_data[\"open\"]\n",
    "    log_returns = np.log((open_prices.pct_change()+1).dropna())\n",
    "    return log_returns, open_prices"
   ]
  },
  {
   "cell_type": "code",
   "execution_count": 346,
   "metadata": {},
   "outputs": [],
   "source": [
    "def compute_vol(raw_data, interval):\n",
    "   \n",
    "    data = raw_data\n",
    "    while(len(data)%interval != 0):\n",
    "        data.drop(data.tail(1).index,inplace=True)\n",
    "   \n",
    "    var_data = np.array(data[len(data)%interval:]).reshape(len(data)//interval, interval,-1).var(axis=1)\n",
    "    # print(var_data)\n",
    "    return np.sqrt(var_data)"
   ]
  },
  {
   "cell_type": "markdown",
   "metadata": {},
   "source": [
    "Plan: \n",
    "\n",
    "For every option:\n",
    "    - Get the vol of past 5 months before option was released\n",
    "    - Get price now, get price at exp. Get profit (if profit positive, \"long\" else \"short\")"
   ]
  },
  {
   "cell_type": "code",
   "execution_count": 347,
   "metadata": {},
   "outputs": [],
   "source": [
    "def build_train_data():\n",
    "    options_data = collect_dfs(\"./aapl\")\n",
    "    # quit()\n",
    "\n",
    "\n",
    "    today = dt.datetime.now()\n",
    "    returns, prices = get_data([\"AAPL\", \"MSFT\", \"GOOG\", \"NVDA\"], today - dt.timedelta(7000), today)\n",
    "    vol_inputs = []\n",
    "    prem_inputs = []\n",
    "    dte_inputs = []\n",
    "    labels = []\n",
    "    for index, row in options_data.iterrows():\n",
    "        try:\n",
    "            quote_date = row[\"[QUOTE_DATE]\"]\n",
    "            exp_date   = row[\"[EXPIRE_DATE]\"]\n",
    "\n",
    "            strike = row[\"[STRIKE]\"]\n",
    "\n",
    "            call_last = row[\"[C_LAST]\"]\n",
    "            put_last = row[\"[P_LAST]\"]\n",
    "\n",
    "            dte = row[\"[DTE]\"]\n",
    "\n",
    "            quote_price = prices.loc[quote_date, \"AAPL\"]\n",
    "            exp_price = prices.loc[exp_date, \"AAPL\"]\n",
    "            # print(type(strike))\n",
    "        \n",
    "            if (exp_price-strike-call_last-put_last).item() > 0:\n",
    "                labels.append(1)\n",
    "            elif (strike-exp_price-call_last-put_last).item() > 0:\n",
    "                labels.append(1)\n",
    "            else:\n",
    "                labels.append(0)\n",
    "            \n",
    "            now = dt.datetime.strptime(quote_date, '%Y-%m-%d').date()\n",
    "            start = now -dt.timedelta(3000)\n",
    "\n",
    "            # print(prices.loc[start:now], 30)\n",
    "\n",
    "            temp = compute_vol(returns.loc[start:now], 30)\n",
    "            temp = temp[-20:]\n",
    "            # print(temp)\n",
    "            vol_inputs.append(temp)\n",
    "            prem_inputs.append(((call_last+put_last)/strike))\n",
    "            dte_inputs.append(dte)\n",
    "        except:\n",
    "            continue\n",
    "        # break\n",
    "    # print(inputs)\n",
    "    return vol_inputs, prem_inputs, dte_inputs, labels\n",
    "\n",
    "\n",
    "\n",
    "\n",
    "    "
   ]
  },
  {
   "cell_type": "code",
   "execution_count": 348,
   "metadata": {},
   "outputs": [],
   "source": [
    "def train_model(model):\n",
    "    inputs, prem_inputs, dte_inputs, labels = build_train_data()\n",
    "    # labels = np.array(labels)\n",
    "    # print(np.array(inputs).shape, np.array(labels).shape)\n",
    "    # print(np.array(prem_inputs).shape, np.array(dte_inputs).shape)\n",
    "    # print(inputs)\n",
    "    model.fit(\n",
    "        [np.array(inputs),\n",
    "        np.array(prem_inputs),\n",
    "        np.array(dte_inputs)],\n",
    "        np.array(labels),\n",
    "        epochs=20,\n",
    "        batch_size=16,\n",
    "    )"
   ]
  },
  {
   "cell_type": "code",
   "execution_count": 349,
   "metadata": {},
   "outputs": [],
   "source": [
    "def make_prediction(model, vol, prem, dte):\n",
    "    return model.predict([vol, prem, dte])"
   ]
  },
  {
   "cell_type": "code",
   "execution_count": 350,
   "metadata": {},
   "outputs": [],
   "source": [
    "def backtest(model):\n",
    "   \n",
    "    options_data = collect_dfs(\"./test\")\n",
    "\n",
    "    today = dt.datetime.now()\n",
    "    returns, prices = get_data([\"AAPL\", \"MSFT\", \"GOOG\", \"NVDA\"], today - dt.timedelta(7000), today)\n",
    "    score = 0\n",
    "    count = 0\n",
    "    profits = []\n",
    "    predicts = []\n",
    "    for index, row in options_data.iterrows():\n",
    "        try:\n",
    "            quote_date = row[\"[QUOTE_DATE]\"]\n",
    "            exp_date   = row[\"[EXPIRE_DATE]\"]\n",
    "\n",
    "            strike = row[\"[STRIKE]\"]\n",
    "\n",
    "            call_last = row[\"[C_LAST]\"]\n",
    "            put_last = row[\"[P_LAST]\"]\n",
    "\n",
    "            dte = row[\"[DTE]\"]\n",
    "\n",
    "            quote_price = prices.loc[quote_date, \"AAPL\"]\n",
    "            exp_price = prices.loc[exp_date, \"AAPL\"]\n",
    "            # print(type(strike))\n",
    "        \n",
    "            \n",
    "            now = dt.datetime.strptime(quote_date, '%Y-%m-%d').date()\n",
    "            start = now -dt.timedelta(3000)\n",
    "\n",
    "            # print(prices.loc[start:now], 30)\n",
    "            temp = compute_vol(returns.loc[start:now], 30)\n",
    "            temp = temp[-20:]\n",
    "            prem_input = (call_last+put_last)/strike\n",
    "\n",
    "            # print(\"hi\", np.array(temp))\n",
    "            # print(\"other\", np.array(prem_input), np.array(dte))\n",
    "            prediction = model.predict([np.array([temp]), np.array([prem_input]), np.array([dte])])\n",
    "            \n",
    "            prediction = prediction.flatten()[0]\n",
    "            print(prediction)\n",
    "            if prediction > 0.5:\n",
    "                prediction = 1\n",
    "            else:\n",
    "                prediction = 0\n",
    "            \n",
    "            \n",
    "            if prediction == 1:\n",
    "                profit = max((exp_price-strike-call_last-put_last).item(), (strike-exp_price-call_last-put_last).item())\n",
    "            else:\n",
    "                # profit = min((strike+put_last+call_last-exp_price).item(), (exp_price-strike+put_last+call_last).item())\n",
    "                profit = max((exp_price-strike-call_last-put_last).item(), (strike-exp_price-call_last-put_last).item())*-1\n",
    "            profits.append(profit)\n",
    "            \n",
    "            if (exp_price-strike-call_last-put_last).item() > 0:\n",
    "                actual = 1\n",
    "            elif (strike-exp_price-call_last-put_last).item() > 0:\n",
    "                actual = 1\n",
    "            else:\n",
    "                actual = 0\n",
    "            predicts.append((actual, prediction))\n",
    "            count += 1\n",
    "            if actual == prediction:\n",
    "                score +=1\n",
    "        except:\n",
    "            continue    \n",
    "        # break\n",
    "    \n",
    "    print(\"score:\", score/count)\n",
    "    print(\"count\", count)\n",
    "    print(\"profit\", np.array(profits).mean())\n",
    "    # print(\"cost\", call_last+put_last)\n",
    "    print(predicts)\n",
    "\n"
   ]
  },
  {
   "cell_type": "code",
   "execution_count": 351,
   "metadata": {},
   "outputs": [
    {
     "name": "stdout",
     "output_type": "stream",
     "text": [
      "aapl_eod_202207.txt\n"
     ]
    },
    {
     "name": "stderr",
     "output_type": "stream",
     "text": [
      "/tmp/ipykernel_25382/3860321070.py:10: ParserWarning: Falling back to the 'python' engine because the 'c' engine does not support regex separators (separators > 1 char and different from '\\s+' are interpreted as regex); you can avoid this warning by specifying engine='python'.\n",
      "  df = pd.read_csv(file_path, sep=\", \")\n"
     ]
    },
    {
     "name": "stdout",
     "output_type": "stream",
     "text": [
      "aapl_eod_202301.txt\n"
     ]
    },
    {
     "name": "stderr",
     "output_type": "stream",
     "text": [
      "/tmp/ipykernel_25382/3860321070.py:10: ParserWarning: Falling back to the 'python' engine because the 'c' engine does not support regex separators (separators > 1 char and different from '\\s+' are interpreted as regex); you can avoid this warning by specifying engine='python'.\n",
      "  df = pd.read_csv(file_path, sep=\", \")\n"
     ]
    },
    {
     "name": "stdout",
     "output_type": "stream",
     "text": [
      "aapl_eod_202209.txt\n"
     ]
    },
    {
     "name": "stderr",
     "output_type": "stream",
     "text": [
      "/tmp/ipykernel_25382/3860321070.py:10: ParserWarning: Falling back to the 'python' engine because the 'c' engine does not support regex separators (separators > 1 char and different from '\\s+' are interpreted as regex); you can avoid this warning by specifying engine='python'.\n",
      "  df = pd.read_csv(file_path, sep=\", \")\n"
     ]
    },
    {
     "name": "stdout",
     "output_type": "stream",
     "text": [
      "aapl_eod_202212.txt\n"
     ]
    },
    {
     "name": "stderr",
     "output_type": "stream",
     "text": [
      "/tmp/ipykernel_25382/3860321070.py:10: ParserWarning: Falling back to the 'python' engine because the 'c' engine does not support regex separators (separators > 1 char and different from '\\s+' are interpreted as regex); you can avoid this warning by specifying engine='python'.\n",
      "  df = pd.read_csv(file_path, sep=\", \")\n"
     ]
    },
    {
     "name": "stdout",
     "output_type": "stream",
     "text": [
      "aapl_eod_202204.txt\n"
     ]
    },
    {
     "name": "stderr",
     "output_type": "stream",
     "text": [
      "/tmp/ipykernel_25382/3860321070.py:10: ParserWarning: Falling back to the 'python' engine because the 'c' engine does not support regex separators (separators > 1 char and different from '\\s+' are interpreted as regex); you can avoid this warning by specifying engine='python'.\n",
      "  df = pd.read_csv(file_path, sep=\", \")\n"
     ]
    },
    {
     "name": "stdout",
     "output_type": "stream",
     "text": [
      "aapl_eod_202303.txt\n"
     ]
    },
    {
     "name": "stderr",
     "output_type": "stream",
     "text": [
      "/tmp/ipykernel_25382/3860321070.py:10: ParserWarning: Falling back to the 'python' engine because the 'c' engine does not support regex separators (separators > 1 char and different from '\\s+' are interpreted as regex); you can avoid this warning by specifying engine='python'.\n",
      "  df = pd.read_csv(file_path, sep=\", \")\n"
     ]
    },
    {
     "name": "stdout",
     "output_type": "stream",
     "text": [
      "aapl_eod_202210.txt\n"
     ]
    },
    {
     "name": "stderr",
     "output_type": "stream",
     "text": [
      "/tmp/ipykernel_25382/3860321070.py:10: ParserWarning: Falling back to the 'python' engine because the 'c' engine does not support regex separators (separators > 1 char and different from '\\s+' are interpreted as regex); you can avoid this warning by specifying engine='python'.\n",
      "  df = pd.read_csv(file_path, sep=\", \")\n"
     ]
    },
    {
     "name": "stdout",
     "output_type": "stream",
     "text": [
      "aapl_eod_202202.txt\n"
     ]
    },
    {
     "name": "stderr",
     "output_type": "stream",
     "text": [
      "/tmp/ipykernel_25382/3860321070.py:10: ParserWarning: Falling back to the 'python' engine because the 'c' engine does not support regex separators (separators > 1 char and different from '\\s+' are interpreted as regex); you can avoid this warning by specifying engine='python'.\n",
      "  df = pd.read_csv(file_path, sep=\", \")\n"
     ]
    },
    {
     "name": "stdout",
     "output_type": "stream",
     "text": [
      "aapl_eod_202201.txt\n"
     ]
    },
    {
     "name": "stderr",
     "output_type": "stream",
     "text": [
      "/tmp/ipykernel_25382/3860321070.py:10: ParserWarning: Falling back to the 'python' engine because the 'c' engine does not support regex separators (separators > 1 char and different from '\\s+' are interpreted as regex); you can avoid this warning by specifying engine='python'.\n",
      "  df = pd.read_csv(file_path, sep=\", \")\n"
     ]
    },
    {
     "name": "stdout",
     "output_type": "stream",
     "text": [
      "aapl_eod_202208.txt\n"
     ]
    },
    {
     "name": "stderr",
     "output_type": "stream",
     "text": [
      "/tmp/ipykernel_25382/3860321070.py:10: ParserWarning: Falling back to the 'python' engine because the 'c' engine does not support regex separators (separators > 1 char and different from '\\s+' are interpreted as regex); you can avoid this warning by specifying engine='python'.\n",
      "  df = pd.read_csv(file_path, sep=\", \")\n"
     ]
    },
    {
     "name": "stdout",
     "output_type": "stream",
     "text": [
      "aapl_eod_202302.txt\n"
     ]
    },
    {
     "name": "stderr",
     "output_type": "stream",
     "text": [
      "/tmp/ipykernel_25382/3860321070.py:10: ParserWarning: Falling back to the 'python' engine because the 'c' engine does not support regex separators (separators > 1 char and different from '\\s+' are interpreted as regex); you can avoid this warning by specifying engine='python'.\n",
      "  df = pd.read_csv(file_path, sep=\", \")\n"
     ]
    },
    {
     "name": "stdout",
     "output_type": "stream",
     "text": [
      "aapl_eod_202205.txt\n"
     ]
    },
    {
     "name": "stderr",
     "output_type": "stream",
     "text": [
      "/tmp/ipykernel_25382/3860321070.py:10: ParserWarning: Falling back to the 'python' engine because the 'c' engine does not support regex separators (separators > 1 char and different from '\\s+' are interpreted as regex); you can avoid this warning by specifying engine='python'.\n",
      "  df = pd.read_csv(file_path, sep=\", \")\n"
     ]
    },
    {
     "name": "stdout",
     "output_type": "stream",
     "text": [
      "aapl_eod_202211.txt\n"
     ]
    },
    {
     "name": "stderr",
     "output_type": "stream",
     "text": [
      "/tmp/ipykernel_25382/3860321070.py:10: ParserWarning: Falling back to the 'python' engine because the 'c' engine does not support regex separators (separators > 1 char and different from '\\s+' are interpreted as regex); you can avoid this warning by specifying engine='python'.\n",
      "  df = pd.read_csv(file_path, sep=\", \")\n"
     ]
    },
    {
     "name": "stdout",
     "output_type": "stream",
     "text": [
      "aapl_eod_202203.txt\n"
     ]
    },
    {
     "name": "stderr",
     "output_type": "stream",
     "text": [
      "/tmp/ipykernel_25382/3860321070.py:10: ParserWarning: Falling back to the 'python' engine because the 'c' engine does not support regex separators (separators > 1 char and different from '\\s+' are interpreted as regex); you can avoid this warning by specifying engine='python'.\n",
      "  df = pd.read_csv(file_path, sep=\", \")\n"
     ]
    },
    {
     "name": "stdout",
     "output_type": "stream",
     "text": [
      "aapl_eod_202206.txt\n"
     ]
    },
    {
     "name": "stderr",
     "output_type": "stream",
     "text": [
      "/tmp/ipykernel_25382/3860321070.py:10: ParserWarning: Falling back to the 'python' engine because the 'c' engine does not support regex separators (separators > 1 char and different from '\\s+' are interpreted as regex); you can avoid this warning by specifying engine='python'.\n",
      "  df = pd.read_csv(file_path, sep=\", \")\n"
     ]
    },
    {
     "name": "stdout",
     "output_type": "stream",
     "text": [
      "(302, 33)\n"
     ]
    },
    {
     "name": "stderr",
     "output_type": "stream",
     "text": [
      "/tmp/ipykernel_25382/1663481241.py:40: FutureWarning: Indexing a timezone-aware DatetimeIndex with a timezone-naive datetime is deprecated and will raise KeyError in a future version. Use a timezone-aware object instead.\n",
      "  temp = compute_vol(returns.loc[start:now], 30)\n",
      "/tmp/ipykernel_25382/2528841483.py:5: SettingWithCopyWarning: \n",
      "A value is trying to be set on a copy of a slice from a DataFrame\n",
      "\n",
      "See the caveats in the documentation: https://pandas.pydata.org/pandas-docs/stable/user_guide/indexing.html#returning-a-view-versus-a-copy\n",
      "  data.drop(data.tail(1).index,inplace=True)\n"
     ]
    },
    {
     "name": "stdout",
     "output_type": "stream",
     "text": [
      "Epoch 1/20\n",
      "19/19 [==============================] - 2s 8ms/step - loss: 2.6348\n",
      "Epoch 2/20\n",
      "19/19 [==============================] - 0s 8ms/step - loss: 2.0643\n",
      "Epoch 3/20\n",
      "19/19 [==============================] - 0s 9ms/step - loss: 1.2729\n",
      "Epoch 4/20\n",
      "19/19 [==============================] - 0s 9ms/step - loss: 0.8374\n",
      "Epoch 5/20\n",
      "19/19 [==============================] - 0s 8ms/step - loss: 0.7132\n",
      "Epoch 6/20\n",
      "19/19 [==============================] - 0s 9ms/step - loss: 0.6908\n",
      "Epoch 7/20\n",
      "19/19 [==============================] - 0s 8ms/step - loss: 0.6877\n",
      "Epoch 8/20\n",
      "19/19 [==============================] - 0s 8ms/step - loss: 0.6879\n",
      "Epoch 9/20\n",
      "19/19 [==============================] - 0s 9ms/step - loss: 0.6877\n",
      "Epoch 10/20\n",
      "19/19 [==============================] - 0s 10ms/step - loss: 0.6876\n",
      "Epoch 11/20\n",
      "19/19 [==============================] - 0s 10ms/step - loss: 0.6874\n",
      "Epoch 12/20\n",
      "19/19 [==============================] - 0s 9ms/step - loss: 0.6876\n",
      "Epoch 13/20\n",
      "19/19 [==============================] - 0s 9ms/step - loss: 0.6875\n",
      "Epoch 14/20\n",
      "19/19 [==============================] - 0s 8ms/step - loss: 0.6876\n",
      "Epoch 15/20\n",
      "19/19 [==============================] - 0s 8ms/step - loss: 0.6877\n",
      "Epoch 16/20\n",
      "19/19 [==============================] - 0s 9ms/step - loss: 0.6879\n",
      "Epoch 17/20\n",
      "19/19 [==============================] - 0s 8ms/step - loss: 0.6875\n",
      "Epoch 18/20\n",
      "19/19 [==============================] - 0s 9ms/step - loss: 0.6877\n",
      "Epoch 19/20\n",
      "19/19 [==============================] - 0s 9ms/step - loss: 0.6881\n",
      "Epoch 20/20\n",
      "19/19 [==============================] - 0s 9ms/step - loss: 0.6885\n",
      "aapl_eod_202305.txt\n"
     ]
    },
    {
     "name": "stderr",
     "output_type": "stream",
     "text": [
      "/tmp/ipykernel_25382/3860321070.py:10: ParserWarning: Falling back to the 'python' engine because the 'c' engine does not support regex separators (separators > 1 char and different from '\\s+' are interpreted as regex); you can avoid this warning by specifying engine='python'.\n",
      "  df = pd.read_csv(file_path, sep=\", \")\n"
     ]
    },
    {
     "name": "stdout",
     "output_type": "stream",
     "text": [
      "aapl_eod_202304.txt\n"
     ]
    },
    {
     "name": "stderr",
     "output_type": "stream",
     "text": [
      "/tmp/ipykernel_25382/3860321070.py:10: ParserWarning: Falling back to the 'python' engine because the 'c' engine does not support regex separators (separators > 1 char and different from '\\s+' are interpreted as regex); you can avoid this warning by specifying engine='python'.\n",
      "  df = pd.read_csv(file_path, sep=\", \")\n"
     ]
    },
    {
     "name": "stdout",
     "output_type": "stream",
     "text": [
      "aapl_eod_202306.txt\n"
     ]
    },
    {
     "name": "stderr",
     "output_type": "stream",
     "text": [
      "/tmp/ipykernel_25382/3860321070.py:10: ParserWarning: Falling back to the 'python' engine because the 'c' engine does not support regex separators (separators > 1 char and different from '\\s+' are interpreted as regex); you can avoid this warning by specifying engine='python'.\n",
      "  df = pd.read_csv(file_path, sep=\", \")\n"
     ]
    },
    {
     "name": "stdout",
     "output_type": "stream",
     "text": [
      "(28, 33)\n"
     ]
    },
    {
     "name": "stderr",
     "output_type": "stream",
     "text": [
      "/tmp/ipykernel_25382/843891350.py:32: FutureWarning: Indexing a timezone-aware DatetimeIndex with a timezone-naive datetime is deprecated and will raise KeyError in a future version. Use a timezone-aware object instead.\n",
      "  temp = compute_vol(returns.loc[start:now], 30)\n",
      "/tmp/ipykernel_25382/2528841483.py:5: SettingWithCopyWarning: \n",
      "A value is trying to be set on a copy of a slice from a DataFrame\n",
      "\n",
      "See the caveats in the documentation: https://pandas.pydata.org/pandas-docs/stable/user_guide/indexing.html#returning-a-view-versus-a-copy\n",
      "  data.drop(data.tail(1).index,inplace=True)\n"
     ]
    },
    {
     "name": "stdout",
     "output_type": "stream",
     "text": [
      "1/1 [==============================] - 0s 456ms/step\n",
      "0.5617847\n",
      "1/1 [==============================] - 0s 18ms/step\n",
      "0.4786694\n",
      "1/1 [==============================] - 0s 18ms/step\n",
      "0.47559723\n",
      "1/1 [==============================] - 0s 17ms/step\n",
      "0.44749582\n",
      "1/1 [==============================] - 0s 17ms/step\n",
      "0.55982906\n",
      "1/1 [==============================] - 0s 16ms/step\n",
      "0.44827867\n",
      "1/1 [==============================] - 0s 16ms/step\n",
      "0.5344076\n",
      "1/1 [==============================] - 0s 17ms/step\n",
      "0.4778345\n",
      "1/1 [==============================] - 0s 17ms/step\n",
      "0.56252694\n",
      "1/1 [==============================] - 0s 17ms/step\n",
      "0.53480136\n",
      "1/1 [==============================] - 0s 18ms/step\n",
      "0.50655216\n",
      "1/1 [==============================] - 0s 17ms/step\n",
      "0.47790706\n",
      "1/1 [==============================] - 0s 17ms/step\n",
      "0.44955295\n",
      "1/1 [==============================] - 0s 17ms/step\n",
      "0.5616827\n",
      "1/1 [==============================] - 0s 17ms/step\n",
      "0.4493751\n",
      "1/1 [==============================] - 0s 18ms/step\n",
      "0.56171954\n",
      "1/1 [==============================] - 0s 17ms/step\n",
      "0.44909436\n",
      "1/1 [==============================] - 0s 18ms/step\n",
      "0.47617334\n",
      "1/1 [==============================] - 0s 20ms/step\n",
      "0.5603099\n",
      "1/1 [==============================] - 0s 17ms/step\n",
      "0.53171456\n",
      "1/1 [==============================] - 0s 17ms/step\n",
      "0.47545436\n",
      "1/1 [==============================] - 0s 18ms/step\n",
      "0.4470445\n",
      "1/1 [==============================] - 0s 17ms/step\n",
      "0.53163517\n",
      "1/1 [==============================] - 0s 17ms/step\n",
      "0.4750134\n",
      "1/1 [==============================] - 0s 18ms/step\n",
      "0.44703346\n",
      "1/1 [==============================] - 0s 17ms/step\n",
      "0.5598491\n",
      "1/1 [==============================] - 0s 17ms/step\n",
      "0.5033921\n",
      "1/1 [==============================] - 0s 17ms/step\n",
      "0.4754039\n",
      "score: 0.6071428571428571\n",
      "count 28\n",
      "profit 0.1528571428571439\n",
      "[(1, 1), (1, 0), (1, 0), (1, 0), (1, 1), (1, 0), (0, 1), (0, 0), (0, 1), (1, 1), (1, 1), (0, 0), (0, 0), (1, 1), (1, 0), (0, 1), (0, 0), (1, 0), (1, 1), (1, 1), (1, 0), (0, 0), (1, 1), (0, 0), (0, 0), (1, 1), (0, 1), (0, 0)]\n"
     ]
    }
   ],
   "source": [
    "model = build_model(20,4)\n",
    "train_model(model)\n",
    "backtest(model)  \n",
    "\n",
    "# print(input)\n",
    "\n"
   ]
  }
 ],
 "metadata": {
  "kernelspec": {
   "display_name": "Python 3",
   "language": "python",
   "name": "python3"
  },
  "language_info": {
   "codemirror_mode": {
    "name": "ipython",
    "version": 3
   },
   "file_extension": ".py",
   "mimetype": "text/x-python",
   "name": "python",
   "nbconvert_exporter": "python",
   "pygments_lexer": "ipython3",
   "version": "3.10.12"
  }
 },
 "nbformat": 4,
 "nbformat_minor": 2
}
